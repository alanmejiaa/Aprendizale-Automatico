{
  "cells": [
    {
      "cell_type": "markdown",
      "metadata": {
        "id": "view-in-github",
        "colab_type": "text"
      },
      "source": [
        "<a href=\"https://colab.research.google.com/github/alanmejiaa/Aprendizale-Automatico/blob/main/Tarea%20%231.ipynb\" target=\"_parent\"><img src=\"https://colab.research.google.com/assets/colab-badge.svg\" alt=\"Open In Colab\"/></a>"
      ]
    },
    {
      "cell_type": "markdown",
      "source": [
        "# Aprendizale-Automatico\n",
        "Materia de Aprendízaje Automatico\n",
        "Tarea 1\n",
        "\n",
        "#Seleccion de datos y describir variables\n",
        "\n",
        "Para este caso se usa una base de datos de una empresa automotriz en la que tenemos datos cualitativos y cuantitativos debido a que contamos con informacion de los productos como su descripcion y como se clasifican y tambien las unidades que se venden asi como sus precios y costos.\n",
        "\n",
        "Contamos con variables como categoria y subcategoria que son clasificaciones de productos, tambien cual es su precio y costo promedio de estos productos, y sus unidades vendidas en el ultimo ano,\n",
        "\n",
        "La base de datos la tomo de una base de datos de la empresa."
      ],
      "metadata": {
        "id": "6X3adKYh9OH8"
      }
    }
  ],
  "metadata": {
    "colab": {
      "name": "Welcome To Colaboratory",
      "provenance": [],
      "include_colab_link": true
    },
    "kernelspec": {
      "display_name": "Python 3",
      "name": "python3"
    }
  },
  "nbformat": 4,
  "nbformat_minor": 0
}