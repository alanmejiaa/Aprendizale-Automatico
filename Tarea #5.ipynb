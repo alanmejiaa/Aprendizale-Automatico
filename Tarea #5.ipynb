{
  "cells": [
    {
      "cell_type": "markdown",
      "metadata": {
        "id": "view-in-github",
        "colab_type": "text"
      },
      "source": [
        "<a href=\"https://colab.research.google.com/github/alanmejiaa/Aprendizale-Automatico/blob/main/Tarea%20%235.ipynb\" target=\"_parent\"><img src=\"https://colab.research.google.com/assets/colab-badge.svg\" alt=\"Open In Colab\"/></a>"
      ]
    },
    {
      "cell_type": "markdown",
      "source": [
        "# **Tarea en clase (2 puntos)**\n",
        "* Investigar sobre algún otro algoritmo no supervisado que pueda usarse en tu código. Da un panorama sobre el modelo matemático que emplea y explica por qué conviene aplicarlo a tus datos. Algunos modelos que no se vieron en clase son Affinity Propagation, BIRCH, DBSCAN, Mean Shift, Nearest Neighbors, OPTICS, Spectral Clustering, TSNE, entre otros\n",
        "\n",
        "* Investigar otras estrategias para determinar número de grupos en estos algoritmos (como los índices de Calinski-Harabasz o de Davies-Bouldin), elegir la más adecuada al método que elegiste\n",
        "# **Tarea (8 puntos)**\n",
        "* Aplicar al menos un algoritmo no supervisado a tus datos para encontrar estructuras subyacentes\n",
        "* Elegir alguna métrica para determinar número de grupos, usarla y discutirla\n",
        "* Busca alguna revista científica que publique trabajos relacionados con el tuyo\n",
        "* Crea artículo mediante Latex con base en los lineamientos de la revista elegida y redacta ahí tus resultados, discusiones y bibliografía\n",
        "* Sube el código de tu tarea, los archivos de Latex y el PDF del artículo en tu repositorio, claramente diferenciados"
      ],
      "metadata": {
        "id": "oLetq_dXA6Uw"
      }
    },
    {
      "cell_type": "markdown",
      "source": [
        "# **Mean Shift**\n",
        "\n",
        "El método de Mean Shift es una técnica de clustering no paramétrico utilizado en machine learning para agrupar datos similares juntos. Se basa en la idea de encontrar las regiones de alta densidad de puntos en el espacio de características de los datos.\n",
        "\n",
        "El proceso comienza con una ventana de búsqueda centrada en un punto de datos. Despues, se calcula el centroide de la ventana de búsqueda, que es el punto medio ponderado de los datos dentro de la ventana.\n",
        "\n",
        "La ventana de búsqueda se mueve hacia el centroide calculado, y se repite el proceso de cálculo del centroide y el desplazamiento de la ventana hasta que se alcanza un máximo local de densidad.\n",
        "\n",
        "Cada punto de datos se asigna al máximo local de densidad más cercano, y los puntos que convergen a un mismo máximo local se agrupan juntos.\n",
        "\n",
        "El resultado final del algoritmo es un conjunto de centroides, cada uno representando un grupo de puntos similares.\n",
        "\n",
        "El método de Mean Shift es eficaz para encontrar los centros de los grupos en datos con formas irregulares o no lineales, y puede manejar conjuntos de datos grandes y de alta dimensionalidad. Sin embargo, puede ser computacionalmente costoso y sensible a la elección del tamaño de la ventana de búsqueda y la función de kernel utilizada.\n",
        "\n"
      ],
      "metadata": {
        "id": "fBR-DByIA_Ji"
      }
    },
    {
      "cell_type": "markdown",
      "source": [
        "##Aprendizaje no supervisado##"
      ],
      "metadata": {
        "id": "ibMNIEH0CHvF"
      }
    },
    {
      "cell_type": "code",
      "source": [
        "import numpy as np \n",
        "import pandas as pd \n",
        "import matplotlib.pyplot as plt\n",
        "import seaborn as sns \n",
        "import warnings\n",
        "\n",
        "warnings.filterwarnings('ignore')"
      ],
      "metadata": {
        "id": "hZ0-n_TLCLB5"
      },
      "execution_count": 34,
      "outputs": []
    },
    {
      "cell_type": "code",
      "source": [
        "df = pd.read_csv(\"skudata.csv\")\n",
        "# Utilizamos las variables que son mas relevantes segun la tarea 4.\n",
        "df = df[['SKU', 'L13UnitsTotal', '_28', 'AVG_BASE_COST58', 'Busquedas', 'Instock', 'CR']]\n",
        "df.head"
      ],
      "metadata": {
        "id": "K_C2MFrNCSBu",
        "outputId": "9e4b378c-814f-42b2-8708-84f912071fa0",
        "colab": {
          "base_uri": "https://localhost:8080/"
        }
      },
      "execution_count": 35,
      "outputs": [
        {
          "output_type": "execute_result",
          "data": {
            "text/plain": [
              "<bound method NDFrame.head of         SKU  L13UnitsTotal  _28  AVG_BASE_COST58  Busquedas    Instock      CR\n",
              "0    348186        1097507  125               38     991269     0.9790  0.4875\n",
              "1    466002         891483   22                3     967704     0.9625  0.0506\n",
              "2    541353         667941  129               58     725171     0.9970  0.3612\n",
              "3    466005         544646   22                4     889493     0.8800  0.0484\n",
              "4    441310         477564   67               29     872521     0.9646  0.2278\n",
              "..      ...            ...  ...              ...        ...        ...     ...\n",
              "295  417864          63061  179               88     203511  9407.0000  0.4654\n",
              "296  695777          62929    5                2     645412  9457.0000  0.0130\n",
              "297  252905          62929  199               77     292465  9075.0000  0.6766\n",
              "298  835366          62851   51               14     869680  9860.0000  0.1479\n",
              "299  686199          62810  105               41     571263  9020.0000  0.3675\n",
              "\n",
              "[300 rows x 7 columns]>"
            ]
          },
          "metadata": {},
          "execution_count": 35
        }
      ]
    },
    {
      "cell_type": "code",
      "source": [
        "X = df\n",
        "y = df['_28']"
      ],
      "metadata": {
        "id": "W2CUI-foEWsE"
      },
      "execution_count": 36,
      "outputs": []
    },
    {
      "cell_type": "markdown",
      "source": [
        "Feature Scalling"
      ],
      "metadata": {
        "id": "C_czwp81E9qM"
      }
    },
    {
      "cell_type": "code",
      "source": [
        "cols = df.columns"
      ],
      "metadata": {
        "id": "G6Dpip4-FCHg"
      },
      "execution_count": 37,
      "outputs": []
    },
    {
      "cell_type": "code",
      "source": [
        "from sklearn.preprocessing import MinMaxScaler\n",
        "\n",
        "ms = MinMaxScaler()\n",
        "\n",
        "df = ms.fit_transform(df)"
      ],
      "metadata": {
        "id": "1z77kYgYFGFH"
      },
      "execution_count": 38,
      "outputs": []
    },
    {
      "cell_type": "code",
      "source": [
        "X = pd.DataFrame(df, columns=[cols])\n",
        "X.head()"
      ],
      "metadata": {
        "id": "a3Ihfq94GKtM",
        "outputId": "b153c5f6-51e7-48cc-ddce-d771a0ca71b8",
        "colab": {
          "base_uri": "https://localhost:8080/",
          "height": 206
        }
      },
      "execution_count": 39,
      "outputs": [
        {
          "output_type": "execute_result",
          "data": {
            "text/plain": [
              "        SKU L13UnitsTotal       _28 AVG_BASE_COST58 Busquedas   Instock  \\\n",
              "0  0.294678      1.000000  0.036430        0.029221  0.979413  0.000010   \n",
              "1  0.395545      0.800885  0.005161        0.000812  0.950988  0.000008   \n",
              "2  0.460056      0.584839  0.037644        0.045455  0.658445  0.000012   \n",
              "3  0.395548      0.465678  0.005161        0.001623  0.856650  0.000000   \n",
              "4  0.374406      0.400846  0.018822        0.021916  0.836179  0.000008   \n",
              "\n",
              "         CR  \n",
              "0  0.041684  \n",
              "1  0.003303  \n",
              "2  0.030589  \n",
              "3  0.003110  \n",
              "4  0.018870  "
            ],
            "text/html": [
              "\n",
              "  <div id=\"df-cc781dd1-1751-4628-b2d0-2a2a9880e568\">\n",
              "    <div class=\"colab-df-container\">\n",
              "      <div>\n",
              "<style scoped>\n",
              "    .dataframe tbody tr th:only-of-type {\n",
              "        vertical-align: middle;\n",
              "    }\n",
              "\n",
              "    .dataframe tbody tr th {\n",
              "        vertical-align: top;\n",
              "    }\n",
              "\n",
              "    .dataframe thead tr th {\n",
              "        text-align: left;\n",
              "    }\n",
              "</style>\n",
              "<table border=\"1\" class=\"dataframe\">\n",
              "  <thead>\n",
              "    <tr>\n",
              "      <th></th>\n",
              "      <th>SKU</th>\n",
              "      <th>L13UnitsTotal</th>\n",
              "      <th>_28</th>\n",
              "      <th>AVG_BASE_COST58</th>\n",
              "      <th>Busquedas</th>\n",
              "      <th>Instock</th>\n",
              "      <th>CR</th>\n",
              "    </tr>\n",
              "  </thead>\n",
              "  <tbody>\n",
              "    <tr>\n",
              "      <th>0</th>\n",
              "      <td>0.294678</td>\n",
              "      <td>1.000000</td>\n",
              "      <td>0.036430</td>\n",
              "      <td>0.029221</td>\n",
              "      <td>0.979413</td>\n",
              "      <td>0.000010</td>\n",
              "      <td>0.041684</td>\n",
              "    </tr>\n",
              "    <tr>\n",
              "      <th>1</th>\n",
              "      <td>0.395545</td>\n",
              "      <td>0.800885</td>\n",
              "      <td>0.005161</td>\n",
              "      <td>0.000812</td>\n",
              "      <td>0.950988</td>\n",
              "      <td>0.000008</td>\n",
              "      <td>0.003303</td>\n",
              "    </tr>\n",
              "    <tr>\n",
              "      <th>2</th>\n",
              "      <td>0.460056</td>\n",
              "      <td>0.584839</td>\n",
              "      <td>0.037644</td>\n",
              "      <td>0.045455</td>\n",
              "      <td>0.658445</td>\n",
              "      <td>0.000012</td>\n",
              "      <td>0.030589</td>\n",
              "    </tr>\n",
              "    <tr>\n",
              "      <th>3</th>\n",
              "      <td>0.395548</td>\n",
              "      <td>0.465678</td>\n",
              "      <td>0.005161</td>\n",
              "      <td>0.001623</td>\n",
              "      <td>0.856650</td>\n",
              "      <td>0.000000</td>\n",
              "      <td>0.003110</td>\n",
              "    </tr>\n",
              "    <tr>\n",
              "      <th>4</th>\n",
              "      <td>0.374406</td>\n",
              "      <td>0.400846</td>\n",
              "      <td>0.018822</td>\n",
              "      <td>0.021916</td>\n",
              "      <td>0.836179</td>\n",
              "      <td>0.000008</td>\n",
              "      <td>0.018870</td>\n",
              "    </tr>\n",
              "  </tbody>\n",
              "</table>\n",
              "</div>\n",
              "      <button class=\"colab-df-convert\" onclick=\"convertToInteractive('df-cc781dd1-1751-4628-b2d0-2a2a9880e568')\"\n",
              "              title=\"Convert this dataframe to an interactive table.\"\n",
              "              style=\"display:none;\">\n",
              "        \n",
              "  <svg xmlns=\"http://www.w3.org/2000/svg\" height=\"24px\"viewBox=\"0 0 24 24\"\n",
              "       width=\"24px\">\n",
              "    <path d=\"M0 0h24v24H0V0z\" fill=\"none\"/>\n",
              "    <path d=\"M18.56 5.44l.94 2.06.94-2.06 2.06-.94-2.06-.94-.94-2.06-.94 2.06-2.06.94zm-11 1L8.5 8.5l.94-2.06 2.06-.94-2.06-.94L8.5 2.5l-.94 2.06-2.06.94zm10 10l.94 2.06.94-2.06 2.06-.94-2.06-.94-.94-2.06-.94 2.06-2.06.94z\"/><path d=\"M17.41 7.96l-1.37-1.37c-.4-.4-.92-.59-1.43-.59-.52 0-1.04.2-1.43.59L10.3 9.45l-7.72 7.72c-.78.78-.78 2.05 0 2.83L4 21.41c.39.39.9.59 1.41.59.51 0 1.02-.2 1.41-.59l7.78-7.78 2.81-2.81c.8-.78.8-2.07 0-2.86zM5.41 20L4 18.59l7.72-7.72 1.47 1.35L5.41 20z\"/>\n",
              "  </svg>\n",
              "      </button>\n",
              "      \n",
              "  <style>\n",
              "    .colab-df-container {\n",
              "      display:flex;\n",
              "      flex-wrap:wrap;\n",
              "      gap: 12px;\n",
              "    }\n",
              "\n",
              "    .colab-df-convert {\n",
              "      background-color: #E8F0FE;\n",
              "      border: none;\n",
              "      border-radius: 50%;\n",
              "      cursor: pointer;\n",
              "      display: none;\n",
              "      fill: #1967D2;\n",
              "      height: 32px;\n",
              "      padding: 0 0 0 0;\n",
              "      width: 32px;\n",
              "    }\n",
              "\n",
              "    .colab-df-convert:hover {\n",
              "      background-color: #E2EBFA;\n",
              "      box-shadow: 0px 1px 2px rgba(60, 64, 67, 0.3), 0px 1px 3px 1px rgba(60, 64, 67, 0.15);\n",
              "      fill: #174EA6;\n",
              "    }\n",
              "\n",
              "    [theme=dark] .colab-df-convert {\n",
              "      background-color: #3B4455;\n",
              "      fill: #D2E3FC;\n",
              "    }\n",
              "\n",
              "    [theme=dark] .colab-df-convert:hover {\n",
              "      background-color: #434B5C;\n",
              "      box-shadow: 0px 1px 3px 1px rgba(0, 0, 0, 0.15);\n",
              "      filter: drop-shadow(0px 1px 2px rgba(0, 0, 0, 0.3));\n",
              "      fill: #FFFFFF;\n",
              "    }\n",
              "  </style>\n",
              "\n",
              "      <script>\n",
              "        const buttonEl =\n",
              "          document.querySelector('#df-cc781dd1-1751-4628-b2d0-2a2a9880e568 button.colab-df-convert');\n",
              "        buttonEl.style.display =\n",
              "          google.colab.kernel.accessAllowed ? 'block' : 'none';\n",
              "\n",
              "        async function convertToInteractive(key) {\n",
              "          const element = document.querySelector('#df-cc781dd1-1751-4628-b2d0-2a2a9880e568');\n",
              "          const dataTable =\n",
              "            await google.colab.kernel.invokeFunction('convertToInteractive',\n",
              "                                                     [key], {});\n",
              "          if (!dataTable) return;\n",
              "\n",
              "          const docLinkHtml = 'Like what you see? Visit the ' +\n",
              "            '<a target=\"_blank\" href=https://colab.research.google.com/notebooks/data_table.ipynb>data table notebook</a>'\n",
              "            + ' to learn more about interactive tables.';\n",
              "          element.innerHTML = '';\n",
              "          dataTable['output_type'] = 'display_data';\n",
              "          await google.colab.output.renderOutput(dataTable, element);\n",
              "          const docLink = document.createElement('div');\n",
              "          docLink.innerHTML = docLinkHtml;\n",
              "          element.appendChild(docLink);\n",
              "        }\n",
              "      </script>\n",
              "    </div>\n",
              "  </div>\n",
              "  "
            ]
          },
          "metadata": {},
          "execution_count": 39
        }
      ]
    },
    {
      "cell_type": "markdown",
      "source": [
        "Metodo del Codo para encontrar el mejor numero de clusters"
      ],
      "metadata": {
        "id": "TajJKNsyHKjB"
      }
    },
    {
      "cell_type": "code",
      "source": [
        "from sklearn.cluster import KMeans\n",
        "cs = []\n",
        "for i in range(1, 11):\n",
        "    kmeans = KMeans(n_clusters = i, init = 'k-means++', max_iter = 300, n_init = 10, random_state = 0)\n",
        "    kmeans.fit(X)\n",
        "    cs.append(kmeans.inertia_)\n",
        "plt.plot(range(1, 11), cs)\n",
        "plt.title('The Elbow Method')\n",
        "plt.xlabel('Number of clusters')\n",
        "plt.ylabel('CS')\n",
        "plt.show()"
      ],
      "metadata": {
        "id": "B9t0wgQiHNt4",
        "outputId": "25a8ca56-5b80-4c30-f2ad-d5f172e1580d",
        "colab": {
          "base_uri": "https://localhost:8080/",
          "height": 295
        }
      },
      "execution_count": 40,
      "outputs": [
        {
          "output_type": "display_data",
          "data": {
            "text/plain": [
              "<Figure size 432x288 with 1 Axes>"
            ],
            "image/png": "[encoded data removed]"
          },
          "metadata": {
            "needs_background": "light"
          }
        }
      ]
    },
    {
      "cell_type": "code",
      "source": [
        "# Analisis\n",
        "kmeans.cluster_centers_"
      ],
      "metadata": {
        "id": "GFGWd_a0Hnfj",
        "outputId": "3a9a2d0b-6049-4795-b158-dbb4c1c088a0",
        "colab": {
          "base_uri": "https://localhost:8080/"
        }
      },
      "execution_count": 41,
      "outputs": [
        {
          "output_type": "execute_result",
          "data": {
            "text/plain": [
              "array([[2.30905719e-01, 3.55586031e-02, 4.08803886e-02, 3.71103896e-02,\n",
              "        8.35254617e-01, 9.30530205e-01, 3.49065289e-02],\n",
              "       [5.97436134e-01, 1.59888276e-01, 3.54341226e-02, 4.00649351e-02,\n",
              "        5.81330680e-01, 5.86443473e-06, 3.07424977e-02],\n",
              "       [3.09911114e-01, 2.71095829e-02, 4.84430566e-02, 4.87841240e-02,\n",
              "        1.26468210e-01, 9.45207201e-01, 4.28567484e-02],\n",
              "       [6.10520707e-01, 2.43050220e-02, 8.14477501e-01, 8.01587302e-01,\n",
              "        5.82080829e-01, 9.47308192e-01, 6.89485870e-01],\n",
              "       [7.32876071e-01, 3.38393628e-02, 3.65777716e-02, 3.23010323e-02,\n",
              "        2.67798979e-01, 9.49311280e-01, 3.24571884e-02],\n",
              "       [7.54830443e-01, 3.04137669e-02, 4.15300546e-02, 3.95021645e-02,\n",
              "        7.91555234e-01, 9.35632382e-01, 3.99606438e-02],\n",
              "       [2.93752327e-01, 1.94872736e-01, 3.69298904e-02, 3.78867456e-02,\n",
              "        2.21129819e-01, 5.95998282e-06, 3.33634086e-02],\n",
              "       [3.72648528e-01, 4.05761300e-02, 2.64993591e-01, 3.41360029e-01,\n",
              "        4.54264252e-01, 9.37445852e-01, 2.54947837e-01],\n",
              "       [2.55511157e-01, 3.21957103e-02, 4.45007182e-02, 4.28017105e-02,\n",
              "        5.20373039e-01, 9.30828019e-01, 3.75469884e-02],\n",
              "       [3.28673444e-01, 3.76234713e-01, 2.69103999e-02, 2.34809833e-02,\n",
              "        8.69733171e-01, 7.03269564e-06, 2.50023845e-02]])"
            ]
          },
          "metadata": {},
          "execution_count": 41
        }
      ]
    },
    {
      "cell_type": "code",
      "source": [
        "kmeans.inertia_"
      ],
      "metadata": {
        "id": "KrHU6HG2HrG-",
        "outputId": "fde7df30-6dcc-4548-c0a1-57e3cee746c4",
        "colab": {
          "base_uri": "https://localhost:8080/"
        }
      },
      "execution_count": 42,
      "outputs": [
        {
          "output_type": "execute_result",
          "data": {
            "text/plain": [
              "14.308545161632997"
            ]
          },
          "metadata": {},
          "execution_count": 42
        }
      ]
    }
  ],
  "metadata": {
    "colab": {
      "name": "Welcome To Colaboratory",
      "provenance": [],
      "include_colab_link": true
    },
    "kernelspec": {
      "display_name": "Python 3",
      "name": "python3"
    }
  },
  "nbformat": 4,
  "nbformat_minor": 0
}