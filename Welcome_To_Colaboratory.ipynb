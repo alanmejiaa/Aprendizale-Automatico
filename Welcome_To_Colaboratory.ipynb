{
  "cells": [
    {
      "cell_type": "markdown",
      "metadata": {
        "id": "view-in-github",
        "colab_type": "text"
      },
      "source": [
        "<a href=\"https://colab.research.google.com/github/alanmejiaa/Aprendizale-Automatico/blob/main/Welcome_To_Colaboratory.ipynb\" target=\"_parent\"><img src=\"https://colab.research.google.com/assets/colab-badge.svg\" alt=\"Open In Colab\"/></a>"
      ]
    },
    {
      "cell_type": "markdown",
      "source": [
        "# Aprendizale-Automatico\n",
        "Materia de Aprendízaje Automatico\n",
        "Tarea 1\n",
        "#Seleccion de datos y describir variables\n",
        "\n",
        "\n",
        "Esta base de datos se obtiene de un registro que se saca en una empresa Automotriz en la parte financiera, por lo que se puede sacar mucho provecho de estos datos.\n",
        "\n",
        "En esta ocasión vamos a utilizar como variable de respuesta “units” (unidades vendidas) esta variable sigue una escala de intervalo y es continua.\n",
        "Por lo que se elige esta variable como variable de interés es debido a que la empresa no esta llegando a la meta planteada de incremento de unidades, por lo que queremos comprender cuales son los posibles factores que pueden estar afectando para que no lleguemos a este plan de crecimiento en unidades.\n",
        "Contamos con las siguientes variables predictivas:\n",
        "•\tAUR: (Average Unit Retail) Esta variable representa el precio promedio al que se están vendiendo los articulos, es decir del total de la venta por periodo o por semana cual es el precio promedio al que se vendio cada unidad, esta variable la estamos tomando en consideración debido a que usualmente hacemos incrementos de precio debido al incremento de costo de nuestros productos o decrementos debido a alguna promoción o oportunidad del mercado, esta variable sigue una escala de intervalo y es continua.\n",
        "•\tAUC: (Average Unit Cost) Esta variable representa el costo promedio al que nos están vendiendo los artículos que estamos vendiendo, es decir del total de la venta por periodo o por semana cual fue el costo promedio de unidad vendida, esta puede subir debido a incremento de precio de materias primas que el proveedor nos refleja a nosotros en el costo o puede bajar por negociaciones o por tipo de cambio si el proveedor no nos vende el producto en MXP, esta variable sigue una escala de intervalo y es continua.\n",
        "•\tCLOSURE RATE: Es un indicador con el que contamos que nos representa el porcentaje de cierre de ventas, cuando una persona busca un producto se crea una búsqueda y cuando una persona compra un producto se genera una transacción, por lo que el “closure rate” es el numero de transacciones entre el número de búsquedas, así vemos el porcentaje con el que se cierra la venta, esta variable sigue una escala de intervalo y es continua.\n",
        "•\tINSTOCK: Es el indicador que nos dice cual es el porcentaje de inventario con el que contamos, esta variable la tomamos en consideración debido a que puede ser un factor por el cual no se esta vendiendo el producto, esta variable sigue una escala de intervalo y es continua.\n",
        "•\tUNITS USA: Son las unidades que vende esta empresa, pero en Estados Unidos, esto debido a que puede que lo que este afectando en el ritmo de las Unidades sea un factor externo, como la temporalidad, un ejemplo puede ser cuando es Enero y las empresas sufren una caída importante en sus ventas, esta variable sigue una escala de intervalo y es continua."
      ],
      "metadata": {
        "id": "6kXFIFV1hiVc"
      }
    }
  ],
  "metadata": {
    "colab": {
      "name": "Welcome To Colaboratory",
      "toc_visible": true,
      "provenance": [],
      "include_colab_link": true
    },
    "kernelspec": {
      "display_name": "Python 3",
      "name": "python3"
    }
  },
  "nbformat": 4,
  "nbformat_minor": 0
}