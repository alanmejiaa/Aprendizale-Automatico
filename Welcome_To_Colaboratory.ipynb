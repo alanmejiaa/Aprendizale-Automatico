{
  "cells": [
    {
      "cell_type": "markdown",
      "metadata": {
        "id": "view-in-github",
        "colab_type": "text"
      },
      "source": [
        "<a href=\"https://colab.research.google.com/github/alanmejiaa/Aprendizale-Automatico/blob/main/Welcome_To_Colaboratory.ipynb\" target=\"_parent\"><img src=\"https://colab.research.google.com/assets/colab-badge.svg\" alt=\"Open In Colab\"/></a>"
      ]
    },
    {
      "cell_type": "markdown",
      "source": [
        "# Aprendizale-Automatico\n",
        "Materia de Aprendízaje Automatico\n",
        "Tarea 1\n",
        "#Seleccion de datos y describir variables\n",
        "\n",
        "\n",
        "Se selecciona una base de datos que se obtiene de una empresa Automotriz en la parte financiera, por lo que se puede sacar mucho provecho de estos datos, la informacion que se puede tener es sobre las ventas y tambien sobre el tipo de productos que se venden asi como tambien algunos indicadores propios de la empresa.\n",
        "\n",
        "Contamos con variables como:\n",
        "\n",
        "•\tUnits, que representa las unidades vendidas en x periodo de tiempo,\n",
        "\n",
        "•\tAUR: (Average Unit Retail) Esta variable representa el precio promedio al que se están vendiendo los articulos.\n",
        "\n",
        "•\tAUC: (Average Unit Cost) Esta variable representa el costo promedio al que nos están vendiendo los artículos que estamos vendiendo.\n",
        "\n",
        "•\tCLOSURE RATE: Es un indicador con el que contamos que nos representa el porcentaje de cierre de ventas.\n",
        "\n",
        "•\tINSTOCK: Es el indicador que nos dice cual es el porcentaje de inventario con el que contamos.\n",
        "\n",
        "•\tUNITS USA: Son las unidades que vende esta empresa, pero en Estados Unidos."
      ],
      "metadata": {
        "id": "6kXFIFV1hiVc"
      }
    }
  ],
  "metadata": {
    "colab": {
      "name": "Welcome To Colaboratory",
      "toc_visible": true,
      "provenance": [],
      "include_colab_link": true
    },
    "kernelspec": {
      "display_name": "Python 3",
      "name": "python3"
    }
  },
  "nbformat": 4,
  "nbformat_minor": 0
}