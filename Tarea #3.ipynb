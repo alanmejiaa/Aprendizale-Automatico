{
  "cells": [
    {
      "cell_type": "markdown",
      "metadata": {
        "id": "view-in-github",
        "colab_type": "text"
      },
      "source": [
        "<a href=\"https://colab.research.google.com/github/alanmejiaa/Aprendizale-Automatico/blob/main/Tarea%20%233.ipynb\" target=\"_parent\"><img src=\"https://colab.research.google.com/assets/colab-badge.svg\" alt=\"Open In Colab\"/></a>"
      ]
    },
    {
      "cell_type": "markdown",
      "source": [
        "# TAREA 3 EN CLASE\n",
        "\n",
        "* Crear funciones para calcular las medidas de tendencia central y de dispersión con Python puro (sin librerías)\n",
        "* Comprueba si tus variables de interés son conjuntos de datos paramétricos o no paramétricos"
      ],
      "metadata": {
        "id": "jvHxbnaf_G_y"
      }
    },
    {
      "cell_type": "code",
      "source": [
        "import pandas as pd\n",
        "data_sku = pd.read_csv(\"skudata.csv\")\n",
        "vec = data_sku[\"_28\"]\n",
        "vector1 = vec.values\n",
        "#declaramos los datos y el vector de precio promedio"
      ],
      "metadata": {
        "id": "x1ICfharPsYP"
      },
      "execution_count": 3,
      "outputs": []
    },
    {
      "cell_type": "markdown",
      "source": [
        "## Media del precio de los SKUs"
      ],
      "metadata": {
        "id": "C5iFRJwXQmM-"
      }
    },
    {
      "cell_type": "code",
      "source": [
        "x = 0\n",
        "\n",
        "for i in vector1:\n",
        "    x += i\n",
        "\n",
        "media = x / len(vector1)\n",
        "print(media)"
      ],
      "metadata": {
        "colab": {
          "base_uri": "https://localhost:8080/"
        },
        "id": "u9QFT-tWQzoh",
        "outputId": "8dfa97ec-22f5-4067-ed99-0f0db42d0bad"
      },
      "execution_count": 4,
      "outputs": [
        {
          "output_type": "stream",
          "name": "stdout",
          "text": [
            "237.20666666666668\n"
          ]
        }
      ]
    },
    {
      "cell_type": "markdown",
      "source": [
        "## Mediana de las Unidades vendidas\n"
      ],
      "metadata": {
        "id": "5xFmjPynROwe"
      }
    },
    {
      "cell_type": "code",
      "source": [
        "vec2 = data_sku[\"L13UnitsTotal\"]\n",
        "vector2 = vec2.values\n",
        "vector2.sort()\n",
        "n = len(vector2) # n es el tamano\n",
        "if n % 2 == 0: #si n es divisible entre 2 promedio de los dos numeros central\n",
        "    mediana = (vector2[n // 2] + vector2[n // 2 - 1]) / 2\n",
        "else:\n",
        "    mediana = vector2[n // 2] #si n no es divisible entre 2 toma el numero central\n",
        "\n",
        "print(mediana)"
      ],
      "metadata": {
        "colab": {
          "base_uri": "https://localhost:8080/"
        },
        "id": "JYhN74b2RSSV",
        "outputId": "13f72f89-651e-41af-9116-51d2a3339564"
      },
      "execution_count": 5,
      "outputs": [
        {
          "output_type": "stream",
          "name": "stdout",
          "text": [
            "102824.5\n"
          ]
        }
      ]
    },
    {
      "cell_type": "markdown",
      "source": [
        "## La moda de las Categorias"
      ],
      "metadata": {
        "id": "PQYuAbSBSk8k"
      }
    },
    {
      "cell_type": "code",
      "source": [
        "vec3 = data_sku[\"Category\"]\n",
        "vector3 = vec3.values\n",
        "# Abrimos una librería vacía para la frecuencia\n",
        "frecuencia = {}\n",
        "\n",
        "# Recorremos el conjunto y contamos la frecuencia\n",
        "for j in vector3:\n",
        "    if j in frecuencia:\n",
        "        frecuencia[j] += 1\n",
        "    else:\n",
        "        frecuencia[j] = 1\n",
        "\n",
        "moda = max(frecuencia, key=frecuencia.get)\n",
        "\n",
        "print(moda)"
      ],
      "metadata": {
        "colab": {
          "base_uri": "https://localhost:8080/"
        },
        "id": "EXkowoAsSmIn",
        "outputId": "8df3f33c-9a47-44e2-8afc-504830327c6d"
      },
      "execution_count": 6,
      "outputs": [
        {
          "output_type": "stream",
          "name": "stdout",
          "text": [
            "OIL ATF\n"
          ]
        }
      ]
    },
    {
      "cell_type": "markdown",
      "source": [
        "## Test de Normalidad para el precio promedio\n"
      ],
      "metadata": {
        "id": "Vr1VJKsaKGJ1"
      }
    },
    {
      "cell_type": "code",
      "source": [
        "#Hacemos el test de normalidad Shapiro-Wilk\n",
        "from scipy.stats import shapiro\n",
        "\n",
        "w, p = shapiro(vector2)\n",
        "\n",
        "# Valor crítico para un nivel de significancia del 5%\n",
        "a = 0.05\n",
        "\n",
        "if p > a:\n",
        "    print(\"Con un 95% de confianza decimos que los datos siguen una distribución normal\")\n",
        "else:\n",
        "    print(\"Con un 95% de confianza decimos que los datos no siguen una distribución normal\")"
      ],
      "metadata": {
        "id": "fRKQPc-oKFOF",
        "outputId": "a0833814-f56d-43f1-a6c2-d09825c6dac6",
        "colab": {
          "base_uri": "https://localhost:8080/"
        }
      },
      "execution_count": 10,
      "outputs": [
        {
          "output_type": "stream",
          "name": "stdout",
          "text": [
            "Con un 95% de confianza decimos que los datoss no siguen una distribución normal\n"
          ]
        }
      ]
    },
    {
      "cell_type": "code",
      "source": [
        "import matplotlib.pyplot as plot\n",
        "plot.hist(vector2)\n",
        "\n",
        "# Añadir título y etiquetas de eje\n",
        "plot.title(\"Histograma\")\n",
        "plot.xlabel(\"Unidades vendidas\")\n",
        "plot.ylabel(\"Frecuencia\")\n",
        "\n",
        "# Mostrar el gráfico\n",
        "plot.show()"
      ],
      "metadata": {
        "id": "PqyvVpWELV_2",
        "outputId": "4613bc56-ae7a-493a-a7de-393178bae619",
        "colab": {
          "base_uri": "https://localhost:8080/",
          "height": 295
        }
      },
      "execution_count": 11,
      "outputs": [
        {
          "output_type": "display_data",
          "data": {
            "text/plain": [
              "<Figure size 432x288 with 1 Axes>"
            ],
            "image/png": "[encoded data removed]"
          },
          "metadata": {
            "needs_background": "light"
          }
        }
      ]
    },
    {
      "cell_type": "markdown",
      "source": [
        "Falta lo que se dejo de tarea"
      ],
      "metadata": {
        "id": "dSbu9CA4Wxel"
      }
    },
    {
      "cell_type": "markdown",
      "source": [],
      "metadata": {
        "id": "B-M_9cIbW4e4"
      }
    }
  ],
  "metadata": {
    "colab": {
      "name": "Welcome To Colaboratory",
      "provenance": [],
      "include_colab_link": true
    },
    "kernelspec": {
      "display_name": "Python 3",
      "name": "python3"
    }
  },
  "nbformat": 4,
  "nbformat_minor": 0
}