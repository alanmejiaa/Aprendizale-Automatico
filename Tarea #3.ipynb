{
  "cells": [
    {
      "cell_type": "markdown",
      "metadata": {
        "id": "view-in-github",
        "colab_type": "text"
      },
      "source": [
        "<a href=\"https://colab.research.google.com/github/alanmejiaa/Aprendizale-Automatico/blob/main/Tarea%20%233.ipynb\" target=\"_parent\"><img src=\"https://colab.research.google.com/assets/colab-badge.svg\" alt=\"Open In Colab\"/></a>"
      ]
    },
    {
      "cell_type": "markdown",
      "source": [
        "# TAREA 3 EN CLASE\n",
        "\n",
        "* Crear funciones para calcular las medidas de tendencia central y de dispersión con Python puro (sin librerías)\n",
        "* Comprueba si tus variables de interés son conjuntos de datos paramétricos o no paramétricos"
      ],
      "metadata": {
        "id": "jvHxbnaf_G_y"
      }
    },
    {
      "cell_type": "code",
      "source": [
        "import pandas as pd\n",
        "data_sku = pd.read_csv(\"skudata.csv\")\n",
        "vec = data_sku[\"_28\"]\n",
        "vector1 = vec.values\n",
        "#declaramos los datos y el vector de precio promedio"
      ],
      "metadata": {
        "id": "x1ICfharPsYP"
      },
      "execution_count": 56,
      "outputs": []
    },
    {
      "cell_type": "markdown",
      "source": [
        "## Media del precio de los SKUs"
      ],
      "metadata": {
        "id": "C5iFRJwXQmM-"
      }
    },
    {
      "cell_type": "code",
      "source": [
        "x = 0\n",
        "\n",
        "for i in vector1:\n",
        "    x += i\n",
        "\n",
        "media = x / len(vector1)\n",
        "print(media)"
      ],
      "metadata": {
        "colab": {
          "base_uri": "https://localhost:8080/"
        },
        "id": "u9QFT-tWQzoh",
        "outputId": "ee5edcfa-ed4f-4233-a7e6-dc35930bbfb7"
      },
      "execution_count": 58,
      "outputs": [
        {
          "output_type": "stream",
          "name": "stdout",
          "text": [
            "237.20666666666668\n"
          ]
        }
      ]
    },
    {
      "cell_type": "markdown",
      "source": [
        "## Mediana de las Unidades vendidas\n"
      ],
      "metadata": {
        "id": "5xFmjPynROwe"
      }
    },
    {
      "cell_type": "code",
      "source": [
        "vec2 = data_sku[\"L13UnitsTotal\"]\n",
        "vector2 = vec2.values\n",
        "vector2.sort()\n",
        "n = len(vector2) # n es el tamano\n",
        "if n % 2 == 0: #si n es divisible entre 2 promedio de los dos numeros central\n",
        "    mediana = (vector2[n // 2] + vector2[n // 2 - 1]) / 2\n",
        "else:\n",
        "    mediana = vector2[n // 2] #si n no es divisible entre 2 toma el numero central\n",
        "\n",
        "print(mediana)"
      ],
      "metadata": {
        "colab": {
          "base_uri": "https://localhost:8080/"
        },
        "id": "JYhN74b2RSSV",
        "outputId": "cd1947aa-040a-429e-da5c-40acb5cffbba"
      },
      "execution_count": 60,
      "outputs": [
        {
          "output_type": "stream",
          "name": "stdout",
          "text": [
            "102824.5\n"
          ]
        }
      ]
    },
    {
      "cell_type": "markdown",
      "source": [
        "## La moda de las Categorias"
      ],
      "metadata": {
        "id": "PQYuAbSBSk8k"
      }
    },
    {
      "cell_type": "code",
      "source": [
        "vec3 = data_sku[\"Category\"]\n",
        "vector3 = vec3.values\n",
        "# Abrimos una librería vacía para la frecuencia\n",
        "frecuencia = {}\n",
        "\n",
        "# Recorremos el conjunto y contamos la frecuencia\n",
        "for j in vector3:\n",
        "    if j in frecuencia:\n",
        "        frecuencia[j] += 1\n",
        "    else:\n",
        "        frecuencia[j] = 1\n",
        "\n",
        "moda = max(frecuencia, key=frecuencia.get)\n",
        "\n",
        "print(moda)"
      ],
      "metadata": {
        "colab": {
          "base_uri": "https://localhost:8080/"
        },
        "id": "EXkowoAsSmIn",
        "outputId": "abdedd08-c693-4740-94e2-7255e941554b"
      },
      "execution_count": 65,
      "outputs": [
        {
          "output_type": "stream",
          "name": "stdout",
          "text": [
            "OIL ATF\n"
          ]
        }
      ]
    },
    {
      "cell_type": "markdown",
      "source": [
        "Falta Test de Normalidad y lo que se encargo"
      ],
      "metadata": {
        "id": "dSbu9CA4Wxel"
      }
    },
    {
      "cell_type": "markdown",
      "source": [],
      "metadata": {
        "id": "B-M_9cIbW4e4"
      }
    }
  ],
  "metadata": {
    "colab": {
      "name": "Welcome To Colaboratory",
      "provenance": [],
      "include_colab_link": true
    },
    "kernelspec": {
      "display_name": "Python 3",
      "name": "python3"
    }
  },
  "nbformat": 4,
  "nbformat_minor": 0
}